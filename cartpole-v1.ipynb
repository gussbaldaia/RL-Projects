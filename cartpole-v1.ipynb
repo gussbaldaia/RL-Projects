{
 "cells": [
  {
   "cell_type": "markdown",
   "metadata": {},
   "source": [
    "### ***Random Agent***"
   ]
  },
  {
   "cell_type": "code",
   "execution_count": 1,
   "metadata": {},
   "outputs": [
    {
     "name": "stdout",
     "output_type": "stream",
     "text": [
      "Episode: 1, Score: 62.0\n",
      "Episode: 2, Score: 20.0\n",
      "Episode: 3, Score: 11.0\n",
      "Episode: 4, Score: 38.0\n",
      "Episode: 5, Score: 23.0\n",
      "Episode: 6, Score: 14.0\n",
      "Episode: 7, Score: 18.0\n",
      "Episode: 8, Score: 28.0\n",
      "Episode: 9, Score: 37.0\n",
      "Episode: 10, Score: 12.0\n"
     ]
    },
    {
     "name": "stderr",
     "output_type": "stream",
     "text": [
      "d:\\Gustavo\\Github\\RL-Projects\\.venv\\Lib\\site-packages\\gym\\utils\\passive_env_checker.py:233: DeprecationWarning: `np.bool8` is a deprecated alias for `np.bool_`.  (Deprecated NumPy 1.24)\n",
      "  if not isinstance(terminated, (bool, np.bool8)):\n"
     ]
    }
   ],
   "source": [
    "import gym\n",
    "env = gym.make('CartPole-v1')\n",
    "\n",
    "episodes = 10\n",
    "\n",
    "for episode in range (1, episodes+1):\n",
    "    state = env.reset()\n",
    "    done = False\n",
    "    score = 0\n",
    "\n",
    "    while not done:\n",
    "        action = env.action_space.sample()\n",
    "        n_state, reward, done, info, _ = env.step(action)\n",
    "        score += reward\n",
    "    print(f\"Episode: {episode}, Score: {score}\")\n",
    "env.close()"
   ]
  },
  {
   "cell_type": "markdown",
   "metadata": {},
   "source": [
    "### *Model*"
   ]
  },
  {
   "cell_type": "code",
   "execution_count": 2,
   "metadata": {},
   "outputs": [
    {
     "name": "stdout",
     "output_type": "stream",
     "text": [
      "WARNING:tensorflow:From d:\\Gustavo\\Github\\RL-Projects\\.venv\\Lib\\site-packages\\keras\\src\\losses.py:2976: The name tf.losses.sparse_softmax_cross_entropy is deprecated. Please use tf.compat.v1.losses.sparse_softmax_cross_entropy instead.\n",
      "\n"
     ]
    }
   ],
   "source": [
    "import numpy as np\n",
    "import sys\n",
    "import tensorflow as tf\n",
    "from tensorflow import keras\n",
    "from tensorflow.keras.models import Sequential\n",
    "from tensorflow.keras.layers import Dense, Flatten\n",
    "#from tensorflow.keras.optimizers import Adam\n",
    "from tensorflow.keras.optimizers.legacy import Adam\n",
    "\n",
    "from collections import deque\n",
    "import random"
   ]
  },
  {
   "cell_type": "markdown",
   "metadata": {},
   "source": [
    "# ***Deep Q Networks (DQN)***"
   ]
  },
  {
   "cell_type": "code",
   "execution_count": 6,
   "metadata": {},
   "outputs": [],
   "source": [
    "class DQNAgent:\n",
    "    def __init__(self, state_size, action_size):\n",
    "        # To see Cartpole learning, change to True\n",
    "        self.render = False\n",
    "        self.load_model = False\n",
    "\n",
    "        # Define size of state and actions\n",
    "        self.states = states\n",
    "        self.actions = actions\n",
    "\n",
    "        # Hyper parameters for the DQN\n",
    "        self.discount_factor = 0.99\n",
    "        self.learning_rate = 0.001\n",
    "        self.epsilon = 1.0\n",
    "        self.epsilon_min = 0.01\n",
    "        self.epsilon_decay = 0.999\n",
    "        self.train_start = 1000\n",
    "        self.batch_size = 64\n",
    "\n",
    "        self.buffer_size = 2000\n",
    "        self.memory = deque(maxlen=self.buffer_size)\n",
    "\n",
    "        self.model = self.build_model()\n",
    "        self.target_model = self.build_model()\n",
    "\n",
    "        self.update_target_model()\n",
    "\n",
    "    def build_model(self):\n",
    "        model = Sequential()\n",
    "        model.add(Dense(24, input_shape=(self.states,), activation='relu',\n",
    "                        kernel_initializer='he_uniform'))\n",
    "        model.add(Dense(24, activation='relu',\n",
    "                        kernel_initializer='he_uniform'))\n",
    "        model.add(Dense(self.actions, activation='linear',\n",
    "                        kernel_initializer='he_uniform'))\n",
    "        model.compile(optimizer=Adam(learning_rate=self.learning_rate),\n",
    "                    loss='mse')\n",
    "        #model.summary()\n",
    "        return model\n",
    "\n",
    "    def store_transition(self, state, action, reward, next_state, done):\n",
    "        # Store the experience in the replay buffer\n",
    "        self.memory.append((state, action, reward, next_state, done))\n",
    "\n",
    "        # Decay epsilon for exploration-exploitation trade-off\n",
    "        if self.epsilon > self.epsilon_min:\n",
    "            self.epsilon *= self.epsilon_decay\n",
    "        \n",
    "    def choose_action(self, state):\n",
    "        # Function to perform epsilon-greedy action selection\n",
    "        if np.random.rand() <= self.epsilon:\n",
    "            return np.random.choice(self.actions)\n",
    "        q_values = self.model.predict(state, verbose = 0)\n",
    "        return np.argmax(q_values[0])\n",
    "\n",
    "    def update_target_model(self):\n",
    "        # Update target network with weights from main network\n",
    "        self.target_model.set_weights(self.model.get_weights())\n",
    "    \n",
    "    def training_loop(self):\n",
    "        if len(self.memory) < self.train_start:\n",
    "            return\n",
    "        batch_size = min(self.batch_size, len(self.memory))\n",
    "        minibatch = random.sample(self.memory, batch_size)\n",
    "\n",
    "        update_input = np.zeros((batch_size, self.states))\n",
    "        update_target = np.zeros((batch_size, self.states))\n",
    "        action, reward, done = [], [], []\n",
    "\n",
    "        for i in range(batch_size):\n",
    "            update_input[i] = minibatch[i][0]\n",
    "            action.append(minibatch[i][1])\n",
    "            reward.append(minibatch[i][2])\n",
    "            update_target[i] = minibatch[i][3]\n",
    "            done.append(minibatch[i][4])       \n",
    "\n",
    "        target = self.model.predict(update_input, verbose=0)\n",
    "        target_val = self.target_model.predict(update_target, verbose=0)\n",
    "\n",
    "        for i in range(batch_size):\n",
    "            # Q Learning: get maximum Q value at s' from target model\n",
    "            if done[i]:\n",
    "                target[i][action[i]] = reward[i]\n",
    "            else:\n",
    "                target[i][action[i]] = reward[i] + self.discount_factor * (\n",
    "                    np.amax(target_val[i]))\n",
    "\n",
    "        # and do the model fit!\n",
    "        self.model.fit(update_input, target, batch_size=batch_size,\n",
    "                       epochs=1, verbose=0)\n",
    "\n",
    "\n"
   ]
  },
  {
   "cell_type": "code",
   "execution_count": null,
   "metadata": {},
   "outputs": [],
   "source": [
    "if __name__ == \"__main__\":\n",
    "    env = gym.make('CartPole-v1')\n",
    "    # Define size of state and actions\n",
    "    states = env.observation_space.shape[0]\n",
    "    actions = env.action_space.n\n",
    "\n",
    "    # Define number of episodes\n",
    "    EPISODES = 150\n",
    "\n",
    "    # Define Agent\n",
    "    agent = DQNAgent(states, actions)\n",
    "\n",
    "    scores, episodes = [], []\n",
    "    \n",
    "    for e in range(EPISODES):\n",
    "        done = False\n",
    "        score = 0\n",
    "        state, _ = env.reset()\n",
    "        state = np.reshape(state, [1, states])\n",
    "\n",
    "\n",
    "        while not done:\n",
    "            if agent.render:\n",
    "                env.render()\n",
    "\n",
    "            # Obtain action for the current state and go one step in environment  \n",
    "            action = agent.choose_action(state)\n",
    "            next_state, reward, done, info, _ = env.step(action)\n",
    "            next_state = np.reshape(next_state, [1, states])\n",
    "\n",
    "            # If an action make the episode end, then gives penalty of -100\n",
    "            reward = reward if not done or score == 499 else -100   \n",
    "\n",
    "            # Store the sample to memory\n",
    "            agent.store_transition(state, action, reward, next_state, done)\n",
    "            # Train the model\n",
    "            agent.training_loop()\n",
    "            # Update reward and state\n",
    "            score += reward\n",
    "            state = next_state\n",
    "    \n",
    "            if done:\n",
    "                # Update the target model with the network wheight \n",
    "                agent.update_target_model()\n",
    "                # every episode, plot the play time\n",
    "                score = score if score == 500 else score + 100\n",
    "                scores.append(score)\n",
    "                episodes.append(e)\n",
    "\n",
    "                print(\"episode:\", e, \"  score:\", score, \"  memory length:\",\n",
    "                        len(agent.memory), \"  epsilon:\", agent.epsilon)\n",
    "\n",
    "                # If the mean of scores of last 10 episode is bigger than 490\n",
    "                # Stop training\n",
    "                if np.mean(scores[-min(10, len(scores)):]) > 490:\n",
    "                    sys.exit()\n",
    "\n",
    " "
   ]
  },
  {
   "cell_type": "code",
   "execution_count": null,
   "metadata": {},
   "outputs": [],
   "source": [
    "import matplotlib.pyplot as plt"
   ]
  },
  {
   "cell_type": "code",
   "execution_count": null,
   "metadata": {},
   "outputs": [],
   "source": [
    "# Test the trained model\n",
    "test_episodes = 10\n",
    "for episode in range(test_episodes):\n",
    "    state = env.reset()\n",
    "    state = np.reshape(state, [1, states])\n",
    "\n",
    "    total_reward = 0\n",
    "    done = False\n",
    "\n",
    "    while not done:\n",
    "        # Choose action using the trained model\n",
    "        action = np.argmax(model.predict(state)[0])\n",
    "\n",
    "        # Take the chosen action and observe the next state and reward\n",
    "        next_state, reward, done, _ = env.step(action)\n",
    "        next_state = np.reshape(next_state, [1, states])\n",
    "\n",
    "        state = next_state\n",
    "        total_reward += reward\n",
    "\n",
    "    print(f\"Test Episode: {episode + 1}, Total Reward: {total_reward}\")\n",
    "\n",
    "# Close the environment\n",
    "env.close()"
   ]
  },
  {
   "cell_type": "code",
   "execution_count": null,
   "metadata": {},
   "outputs": [],
   "source": []
  }
 ],
 "metadata": {
  "kernelspec": {
   "display_name": ".venv",
   "language": "python",
   "name": "python3"
  },
  "language_info": {
   "codemirror_mode": {
    "name": "ipython",
    "version": 3
   },
   "file_extension": ".py",
   "mimetype": "text/x-python",
   "name": "python",
   "nbconvert_exporter": "python",
   "pygments_lexer": "ipython3",
   "version": "3.11.7"
  }
 },
 "nbformat": 4,
 "nbformat_minor": 2
}
